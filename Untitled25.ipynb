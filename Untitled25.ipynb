{
  "nbformat": 4,
  "nbformat_minor": 0,
  "metadata": {
    "colab": {
      "provenance": []
    },
    "kernelspec": {
      "name": "python3",
      "display_name": "Python 3"
    },
    "language_info": {
      "name": "python"
    }
  },
  "cells": [
    {
      "cell_type": "code",
      "execution_count": 4,
      "metadata": {
        "id": "tFkZnBRexcM9"
      },
      "outputs": [],
      "source": [
        "import logging\n",
        "\n",
        "# Define logger for API 1\n",
        "api1_logger = logging.getLogger('api1')\n",
        "api1_logger.setLevel(logging.INFO)\n",
        "\n",
        "# Configure log handler for API 1\n",
        "api1_handler = logging.FileHandler('log1.log')\n",
        "api1_handler.setFormatter(logging.Formatter('%(asctime)s - %(levelname)s - %(message)s'))\n",
        "api1_logger.addHandler(api1_handler)\n",
        "\n",
        "# Example usage in API 1\n",
        "def some_function():\n",
        "    try:\n",
        "        # Code logic\n",
        "        api1_logger.info('Inside API 1 function')\n",
        "    except Exception as e:\n",
        "        api1_logger.error(f'Error in API 1: {str(e)}')\n"
      ]
    },
    {
      "cell_type": "code",
      "source": [],
      "metadata": {
        "id": "3sdNZOMhyzoF"
      },
      "execution_count": 5,
      "outputs": []
    },
    {
      "cell_type": "code",
      "source": [
        "import json\n",
        "import re\n",
        "\n",
        "# Simulate command-line arguments with interactive input\n",
        "args = {}\n",
        "args['level'] = input('Enter log level (info, error, success) or leave blank: ').strip()\n",
        "args['message'] = input('Enter search term in log message or leave blank: ').strip()\n",
        "args['timestamp'] = input('Enter timestamp (YYYY-MM-DDTHH:MM:SSZ) or leave blank: ').strip()\n",
        "args['source'] = input('Enter log source or leave blank: ').strip()\n",
        "\n",
        "# Read logs and filter based on user input\n",
        "with open('log1.log', 'r') as file:\n",
        "    for line in file:\n",
        "        log_data = json.loads(line)\n",
        "        if (not args['level'] or log_data['level'] == args['level']) and \\\n",
        "           (not args['message'] or re.search(args['message'], log_data['log_string'])) and \\\n",
        "           (not args['timestamp'] or log_data['timestamp'] == args['timestamp']) and \\\n",
        "           (not args['source'] or log_data['metadata']['source'] == args['source']):\n",
        "            print(log_data)\n"
      ],
      "metadata": {
        "id": "_QronXk4xdJn"
      },
      "execution_count": null,
      "outputs": []
    },
    {
      "cell_type": "code",
      "source": [],
      "metadata": {
        "id": "NBJysNEixlc1"
      },
      "execution_count": null,
      "outputs": []
    }
  ]
}